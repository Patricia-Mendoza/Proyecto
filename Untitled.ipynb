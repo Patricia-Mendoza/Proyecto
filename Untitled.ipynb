{
 "cells": [
  {
   "cell_type": "code",
   "execution_count": 1,
   "id": "4c0b9db1-0921-4fbf-b842-ca85bee7738a",
   "metadata": {},
   "outputs": [
    {
     "data": {
      "text/html": [
       "\n",
       "<style>\n",
       "/* Fondo general */\n",
       "body {\n",
       "    background-color: #95c1ed; /* azul muy claro */\n",
       "    font-family: 'Segoe UI', Tahoma, sans-serif;\n",
       "    color: #333333;\n",
       "}\n",
       "\n",
       "/* Títulos */\n",
       "h1, h3, b {\n",
       "    color: #333333;\n",
       "}\n",
       "\n",
       "/* Botones */\n",
       "button {\n",
       "    background-color: #1f7a9c !important;\n",
       "    color: white !important;\n",
       "    border-radius: 6px !important;\n",
       "    padding: 6px 12px !important;\n",
       "}\n",
       "button:hover {\n",
       "    background-color: #45a049 !important;\n",
       "}\n",
       "\n",
       "/* Widgets */\n",
       ".widget-label {\n",
       "    font-weight: bold;\n",
       "    color: #444444;\n",
       "}\n",
       ".widget-dropdown, .widget-text {\n",
       "    border-radius: 5px;\n",
       "    border: 1px solid #ccc;\n",
       "}\n",
       "\n",
       "/* Tablas */\n",
       ".dataframe {\n",
       "    border-collapse: collapse;\n",
       "    width: 100%;\n",
       "}\n",
       ".dataframe th, .dataframe td {\n",
       "    border: 1px solid #ccc;\n",
       "    padding: 6px;\n",
       "}\n",
       ".dataframe th {\n",
       "    background-color: #e0e0e0;\n",
       "}\n",
       "</style>\n"
      ],
      "text/plain": [
       "<IPython.core.display.HTML object>"
      ]
     },
     "metadata": {},
     "output_type": "display_data"
    }
   ],
   "source": [
    "from IPython.display import HTML\n",
    "\n",
    "custom_css = \"\"\"\n",
    "<style>\n",
    "/* Fondo general */\n",
    "body {\n",
    "    background-color: #95c1ed; /* azul muy claro */\n",
    "    font-family: 'Segoe UI', Tahoma, sans-serif;\n",
    "    color: #333333;\n",
    "}\n",
    "\n",
    "/* Títulos */\n",
    "h1, h3, b {\n",
    "    color: #333333;\n",
    "}\n",
    "\n",
    "/* Botones */\n",
    "button {\n",
    "    background-color: #1f7a9c !important;\n",
    "    color: white !important;\n",
    "    border-radius: 6px !important;\n",
    "    padding: 6px 12px !important;\n",
    "}\n",
    "button:hover {\n",
    "    background-color: #45a049 !important;\n",
    "}\n",
    "\n",
    "/* Widgets */\n",
    ".widget-label {\n",
    "    font-weight: bold;\n",
    "    color: #444444;\n",
    "}\n",
    ".widget-dropdown, .widget-text {\n",
    "    border-radius: 5px;\n",
    "    border: 1px solid #ccc;\n",
    "}\n",
    "\n",
    "/* Tablas */\n",
    ".dataframe {\n",
    "    border-collapse: collapse;\n",
    "    width: 100%;\n",
    "}\n",
    ".dataframe th, .dataframe td {\n",
    "    border: 1px solid #ccc;\n",
    "    padding: 6px;\n",
    "}\n",
    ".dataframe th {\n",
    "    background-color: #e0e0e0;\n",
    "}\n",
    "</style>\n",
    "\"\"\"\n",
    "display(HTML(custom_css))\n"
   ]
  },
  {
   "cell_type": "code",
   "execution_count": 2,
   "id": "e5412be4-3cd9-4955-bdef-90f09b18946e",
   "metadata": {},
   "outputs": [],
   "source": [
    "import pandas as pd\n",
    "import io\n",
    "import matplotlib.pyplot as plt\n",
    "from IPython.display import display, clear_output, HTML\n",
    "import ipywidgets as widgets\n",
    "import seaborn as sns"
   ]
  },
  {
   "cell_type": "code",
   "execution_count": 3,
   "id": "2af253c3-358c-42ba-9b3c-345e62efb9c1",
   "metadata": {},
   "outputs": [],
   "source": [
    "def infer_type(series):\n",
    "    if pd.api.types.is_numeric_dtype(series):\n",
    "        return \"Numérica\"\n",
    "    else:\n",
    "        return \"Categórica\"\n",
    "\n",
    "#### Tabla con summary() #####\n",
    "\n",
    "def summarize_variable(df, col, assigned_type):\n",
    "    out = {}\n",
    "    series = df[col]\n",
    "    out[\"Nombre\"] = col\n",
    "    out[\"Tipo de variable\"] = assigned_type\n",
    "    out[\"Vacios\"] = int(series.isna().sum())\n",
    "    out[\"Únicos\"] = int(series.nunique(dropna=True))\n",
    "    \n",
    "    try:\n",
    "        if \"Categórica\" in assigned_type:\n",
    "            counts = series.astype(str).value_counts().head(5)\n",
    "            out[\"Categorías\"] = \", \".join([f\"{i}: {v}\" for i, v in counts.items()])\n",
    "            out[\"Media\"] = pd.NA\n",
    "            out[\"Mediana\"] = pd.NA\n",
    "            out[\"Q1\"] = pd.NA\n",
    "            out[\"Q3\"] = pd.NA\n",
    "            out[\"Desviación\"] = pd.NA\n",
    "            out[\"Min\"] = pd.NA\n",
    "            out[\"Max\"] = pd.NA\n",
    "        else:\n",
    "            out[\"Categorías\"] = pd.NA\n",
    "            if pd.api.types.is_numeric_dtype(series):\n",
    "                out[\"Media\"] = series.mean()\n",
    "                out[\"Mediana\"] = series.median()\n",
    "                out[\"Q1\"] = series.quantile(0.25)\n",
    "                out[\"Q3\"] = series.quantile(0.75)\n",
    "                out[\"Desviación\"] = series.std()\n",
    "                out[\"Min\"] = series.min()\n",
    "                out[\"Max\"] = series.max()\n",
    "            else:\n",
    "                # Datos no numéricos que no son categóricos\n",
    "                out[\"Media\"] = pd.NA\n",
    "                out[\"Mediana\"] = pd.NA\n",
    "                out[\"Q1\"] = pd.NA\n",
    "                out[\"Q3\"] = pd.NA\n",
    "                out[\"Desviación\"] = pd.NA\n",
    "                out[\"Min\"] = pd.NA\n",
    "                out[\"Max\"] = pd.NA\n",
    "        out[\"Error\"] = pd.NA\n",
    "    except Exception as e:\n",
    "        # Capturamos cualquier error y lo guardamos\n",
    "        out[\"Error\"] = repr(e)\n",
    "        out[\"Media\"] = pd.NA\n",
    "        out[\"Mediana\"] = pd.NA\n",
    "        out[\"Q1\"] = pd.NA\n",
    "        out[\"Q3\"] = pd.NA\n",
    "        out[\"Desviación\"] = pd.NA\n",
    "        out[\"Min\"] = pd.NA\n",
    "        out[\"Max\"] = pd.NA\n",
    "        out[\"Categorías\"] = pd.NA\n",
    "\n",
    "    return out\n",
    "  "
   ]
  },
  {
   "cell_type": "code",
   "execution_count": 4,
   "id": "456ecb8f-c79b-4c0a-93aa-6c3175074682",
   "metadata": {},
   "outputs": [],
   "source": [
    "##### Carguemos el excel #####\n",
    "\n",
    "def leer_excel_flexible(raw_bytes):\n",
    "    df = pd.read_excel(io.BytesIO(raw_bytes))\n",
    "    return df, \"default\"\n",
    "\n",
    "def extract_content(upload_value):\n",
    "    if isinstance(upload_value, dict):\n",
    "        return list(upload_value.values())[0]\n",
    "    elif isinstance(upload_value, (tuple, list)) and upload_value:\n",
    "        return upload_value[0]\n",
    "    else:\n",
    "        raise ValueError(\"Formato inesperado de upload.value\")"
   ]
  },
  {
   "cell_type": "code",
   "execution_count": 5,
   "id": "5acee4c2-36da-4e16-aa78-19fd44f7ab90",
   "metadata": {},
   "outputs": [],
   "source": [
    "##### Interpretemos los resultados #####\n",
    "def interpretar_variable_html(df, col, assigned_type):\n",
    "    serie = df[col].dropna()\n",
    "    n = len(serie)\n",
    "    if n == 0:\n",
    "        return \"<p>No hay datos</p>\"\n",
    "    \n",
    "    if \"Categórica\" in assigned_type:\n",
    "        counts = serie.astype(str).value_counts(normalize=True)\n",
    "        top_cat = counts.idxmax()\n",
    "        top_pct = counts.max() * 100\n",
    "        n_unique = serie.nunique()\n",
    "        text = f\"<p>La variable '<b>{col}</b>' es categórica con <b>{n_unique}</b> categorías únicas.</p>\"\n",
    "        text += f\"<p>La categoría con más frecuencia es '<b>{top_cat}</b>', representando el <b>{top_pct:.1f}%</b> de los datos.</p>\"\n",
    "        return text\n",
    "    \n",
    "    # Variables numéricas\n",
    "    mean = serie.mean()\n",
    "    median = serie.median()\n",
    "    q1 = serie.quantile(0.25)\n",
    "    q3 = serie.quantile(0.75)\n",
    "    iqr = q3 - q1\n",
    "    std = serie.std()\n",
    "    min_v = serie.min()\n",
    "    max_v = serie.max()\n",
    "\n",
    "    text = f\"<p>La variable '<b>{col}</b>' es numérica con <b>{n}</b> observaciones.</p>\"\n",
    "    text += f\"<p>Media (promedio) = <b>{mean:.3f}</b>, Mediana (Q2) = <b>{median:.3f}</b>.</p>\"\n",
    "    text += f\"<p>La desviación estándar es <b>{std:.3f}</b>, lo que nos indica la distancia promedio de los datos a la media.</p>\"\n",
    "    text += f\"<p>El rango intercuartílico IQR (Q3 - Q1) es <b>{iqr:.3f}</b>, lo que indica dispersión central.</p>\"\n",
    "    text += (\n",
    "        \"<ul>\"\n",
    "        \"<li>Un IQR pequeño → el 50% central de los datos está muy agrupado (baja variabilidad central).</li>\"\n",
    "        \"<li>Un IQR grande → el 50% central está muy disperso (alta variabilidad central).</li>\"\n",
    "        \"</ul>\"\n",
    "    )\n",
    "    text += f\"<p>El rango total va de <b>{min_v:.3f}</b> a <b>{max_v:.3f}</b>.</p>\"\n",
    "\n",
    "    lower_bound = q1 - 1.5 * iqr\n",
    "    upper_bound = q3 + 1.5 * iqr\n",
    "    outliers = serie[(serie < lower_bound) | (serie > upper_bound)]\n",
    "    if len(outliers) > 0:\n",
    "        text += f\"<p>Se tienen <b>{len(outliers)}</b> valores atípicos (valores fuera de los límites) [{lower_bound:.3f}, {upper_bound:.3f}].</p>\"\n",
    "    else:\n",
    "        text += \"<p>No se detectaron valores atípicos evidentes.</p>\"\n",
    "\n",
    "    return text\n",
    "    \n",
    "# --- estado ---\n",
    "state = {\"df\": None, \"types\": {}}"
   ]
  },
  {
   "cell_type": "code",
   "execution_count": 6,
   "id": "b2f54f0f-a4f7-49f0-b28f-42eff8ea44ca",
   "metadata": {},
   "outputs": [],
   "source": [
    "##### widgets #####\n",
    "\n",
    "# --- Widgets mejorados ---\n",
    "\n",
    "# Upload con icono y estilo\n",
    "upload = widgets.FileUpload(\n",
    "    accept='.xls,.xlsx',\n",
    "    multiple=False,\n",
    "    description=\"Sube tu archivo Excel\",\n",
    "    style={'description_width': 'initial'},\n",
    "    layout=widgets.Layout(width='250px')\n",
    ")\n",
    "\n",
    "# Contenedor para selección de tipos de variables con estilo pastel y borde redondeado\n",
    "type_override_box = widgets.VBox(\n",
    "    layout=widgets.Layout(\n",
    "        border='2px solid #c8d6e5',\n",
    "        padding='10px',\n",
    "        border_radius='10px',\n",
    "        width='500px',\n",
    "        overflow='auto',\n",
    "        max_height='300px'\n",
    "    )\n",
    ")\n",
    "\n",
    "# Output widgets\n",
    "summary_out = widgets.Output(layout=widgets.Layout(border='1px solid #c8d6e5', padding='10px', border_radius='10px'))\n",
    "plot_out = widgets.Output(layout=widgets.Layout(border='1px solid #c8d6e5', padding='10px', border_radius='10px'))\n",
    "status_out = widgets.Output(layout=widgets.Layout(border='1px solid #c8d6e5', padding='10px', border_radius='10px'))\n",
    "\n",
    "# Selector de variable con ancho definido\n",
    "var_selector = widgets.Dropdown(\n",
    "    description=\"Variable:\",\n",
    "    options=[],\n",
    "    layout=widgets.Layout(width=\"400px\"),\n",
    "    style={'description_width': 'initial'}\n",
    ")\n",
    "\n",
    "# Slider de bins con color pastel y ancho definido\n",
    "bins_slider = widgets.IntSlider(\n",
    "    value=25,\n",
    "    min=5,\n",
    "    max=100,\n",
    "    step=5,\n",
    "    description=\"Bins:\",\n",
    "    layout=widgets.Layout(width=\"300px\"),\n",
    "    style={'description_width': '50px'}\n",
    ")\n",
    "\n",
    "# Checkbox para escala logarítmica\n",
    "log_scale_chk = widgets.Checkbox(\n",
    "    value=False,\n",
    "    description=\"Escala log\",\n",
    "    indent=False,\n",
    "    style={'description_width': 'initial'}\n",
    ")\n",
    "\n"
   ]
  },
  {
   "cell_type": "code",
   "execution_count": 7,
   "id": "de2e0d9d-c056-426e-ade0-7abd2f9cf704",
   "metadata": {},
   "outputs": [],
   "source": [
    "##### Tipos de variables #####\n",
    "def build_type_override_widgets():\n",
    "    children = []\n",
    "    for col, inferred_type in state[\"types\"].items():\n",
    "        dd = widgets.Dropdown(\n",
    "            options=[\"Categórica\", \"Numérica\"],  # Solo estas opciones\n",
    "            value=inferred_type,\n",
    "            description=col,\n",
    "            layout=widgets.Layout(width=\"450px\")\n",
    "        )\n",
    "        def on_change(change, column=col):\n",
    "            state[\"types\"][column] = change[\"new\"]\n",
    "            update_summary()\n",
    "            refresh_variable_selector()\n",
    "            plot_variable()\n",
    "        dd.observe(on_change, names=\"value\")\n",
    "        children.append(dd)\n",
    "    type_override_box.children = children"
   ]
  },
  {
   "cell_type": "code",
   "execution_count": 8,
   "id": "61318cd6-0518-47ac-9863-096a6f68fd8f",
   "metadata": {},
   "outputs": [],
   "source": [
    "def update_summary(*args):\n",
    "    summary_out.clear_output()\n",
    "    if state[\"df\"] is None:\n",
    "        return\n",
    "    df = state[\"df\"]\n",
    "    \n",
    "    with summary_out:\n",
    "        clear_output()\n",
    "        print(\"Resumen de variables\")\n",
    "        summary_list = [summarize_variable(df, col, state[\"types\"][col]) for col in df.columns]\n",
    "        summary_df = pd.DataFrame(summary_list)\n",
    "        cols_order = [\"Nombre\",\"Tipo de variable\",\"Vacios\",\"Únicos\",\"Categorías\",\n",
    "                      \"Media\",\"Mediana\",\"Q1\",\"Q3\",\"Desviación\",\"Min\",\"Max\",\"Error\"]\n",
    "        # Aseguramos que si no hay \"Error\" la columna exista\n",
    "        if \"Error\" not in summary_df.columns:\n",
    "            summary_df[\"Error\"] = pd.NA\n",
    "        summary_df = summary_df[cols_order]\n",
    "        pd.options.display.float_format = '{:.3f}'.format\n",
    "        display(summary_df)\n",
    "\n",
    "        var = var_selector.value\n",
    "        if var is not None:\n",
    "            assigned_type = state[\"types\"].get(var, \"Categórica\")\n",
    "            display(HTML(\"<h4>Resultados:</h4>\"))\n",
    "            try:\n",
    "                texto_interpretacion = interpretar_variable_html(df, var, assigned_type)\n",
    "            except Exception as e:\n",
    "                texto_interpretacion = f\"<p style='color:red;'>❌ No se pudo generar interpretación: {repr(e)}</p>\"\n",
    "            display(HTML(texto_interpretacion))\n",
    "\n",
    "            \n",
    "def refresh_variable_selector():\n",
    "    if state[\"df\"] is None:\n",
    "        var_selector.options = []\n",
    "        return\n",
    "    var_selector.options = list(state[\"df\"].columns)\n",
    "    if var_selector.options and var_selector.value not in var_selector.options:\n",
    "        var_selector.value = var_selector.options[0]"
   ]
  },
  {
   "cell_type": "code",
   "execution_count": 9,
   "id": "37be7eeb-73da-4142-bf86-1c64ad43b75c",
   "metadata": {},
   "outputs": [],
   "source": [
    "##### Graficos #####\n",
    "def plot_variable(*args):\n",
    "    plot_out.clear_output()\n",
    "    if state[\"df\"] is None or not var_selector.value:\n",
    "        return\n",
    "    df = state[\"df\"]\n",
    "    var = var_selector.value\n",
    "    assigned_type = state[\"types\"].get(var, \"Categórica\")\n",
    "    series = df[var].dropna()\n",
    "\n",
    "    with plot_out:\n",
    "        clear_output()\n",
    "        if \"Categórica\" in assigned_type:\n",
    "            counts = series.astype(str).value_counts()\n",
    "            colors = sns.color_palette(\"pastel\", len(counts))\n",
    "            \n",
    "            plt.figure(figsize=(7,5))\n",
    "            plt.bar(counts.index, counts.values, color=colors, edgecolor='black')\n",
    "            plt.title(f\"Gráfico de barras: {var}\", fontsize=16, fontweight='bold')\n",
    "            plt.xlabel(var, fontsize=12)\n",
    "            plt.ylabel(\"Frecuencia\", fontsize=12)\n",
    "            plt.xticks(rotation=45, ha='right')\n",
    "            plt.tight_layout()\n",
    "            plt.show()\n",
    "        \n",
    "            \n",
    "            plt.figure(figsize=(6,6))\n",
    "            plt.pie(counts.values,\n",
    "                    labels=counts.index,\n",
    "                    autopct='%1.1f%%',\n",
    "                    colors=sns.color_palette(\"pastel\"),\n",
    "                    startangle=90,\n",
    "                    wedgeprops={'edgecolor':'black'},\n",
    "                    pctdistance=0.85)  \n",
    "            plt.title(f\"Gráfico de pastel: {var}\", fontsize=16, fontweight='bold')\n",
    "            plt.tight_layout()\n",
    "            plt.show()\n",
    "\n",
    "        else:\n",
    "            plt.figure(figsize=(7,4))\n",
    "            ax = sns.histplot(series, bins=bins_slider.value, color=\"steelblue\", edgecolor='black', kde=False)\n",
    "            if log_scale_chk.value:\n",
    "                if (series > 0).all():\n",
    "                    ax.set_yscale('log')\n",
    "                else:\n",
    "                    print(\"No se puede aplicar escala log porque hay valores ≤ 0.\")\n",
    "            ax.set_title(f\"Histograma de {var}\", fontsize=16, fontweight='bold')\n",
    "            ax.set_xlabel(var, fontsize=12)\n",
    "            ax.set_ylabel(\"Frecuencia\", fontsize=12)\n",
    "            plt.tight_layout()\n",
    "            plt.show()\n",
    "            plt.figure(figsize=(7,4))\n",
    "            ax = sns.kdeplot(series, color='steelblue', linewidth=2)\n",
    "            ax.set_title(f\"Densidad de {var}\", fontsize=16, fontweight='bold')\n",
    "            ax.set_xlabel(var, fontsize=12)\n",
    "            ax.set_ylabel(\"Densidad\", fontsize=12)\n",
    "            plt.tight_layout()\n",
    "            plt.show()\n",
    "\n",
    "            plt.figure(figsize=(7,2.5))\n",
    "            ax = sns.boxplot(x=series, color='steelblue')\n",
    "            ax.set_title(f\"Boxplot de {var}\", fontsize=16, fontweight='bold')\n",
    "            plt.tight_layout()\n",
    "            plt.show()"
   ]
  },
  {
   "cell_type": "code",
   "execution_count": 10,
   "id": "4e6f9c3f-48b9-4fc9-a580-dad041a5cb7a",
   "metadata": {},
   "outputs": [],
   "source": [
    "def on_upload(change):\n",
    "    plot_out.clear_output()\n",
    "    summary_out.clear_output()\n",
    "    status_out.clear_output()\n",
    "    if not upload.value:\n",
    "        with status_out:\n",
    "            clear_output()\n",
    "            print(\"No se ha subido ningún archivo.\")\n",
    "        return\n",
    "\n",
    "    with status_out:\n",
    "        clear_output()\n",
    "        print(\"Procesando archivo...\")\n",
    "\n",
    "    try:\n",
    "        content = extract_content(upload.value)\n",
    "    except Exception as e:\n",
    "        with status_out:\n",
    "            clear_output()\n",
    "            print(\"Error extrayendo el contenido del upload:\", repr(e))\n",
    "        return\n",
    "\n",
    "    try:\n",
    "        raw = content.get(\"content\", None)\n",
    "        if raw is None:\n",
    "            raise KeyError(\"No se encontró 'content' en el objeto recibido.\")\n",
    "    except Exception as e:\n",
    "        with status_out:\n",
    "            clear_output()\n",
    "            print(\"Error accediendo al contenido bruto del upload:\", repr(e))\n",
    "        return\n",
    "\n",
    "    try:\n",
    "        df, _ = leer_excel_flexible(raw)\n",
    "        with status_out:\n",
    "            clear_output()\n",
    "            print(f\"Archivo cargado correctamente.\")\n",
    "    except Exception as e:\n",
    "        with status_out:\n",
    "            clear_output()\n",
    "            print(\"Error al leer el archivo Excel. Detalle completo:\")\n",
    "            import traceback\n",
    "            traceback.print_exc()\n",
    "        with summary_out:\n",
    "            clear_output()\n",
    "            print(\"No se pudo cargar el archivo. Revisa su formato.\")\n",
    "        return\n",
    "\n",
    "    state[\"df\"] = df\n",
    "    inferred = {col: infer_type(df[col]) for col in df.columns}\n",
    "    state[\"types\"] = inferred.copy()\n",
    "\n",
    "    build_type_override_widgets()\n",
    "    update_summary()\n",
    "    refresh_variable_selector()\n",
    "    plot_variable()"
   ]
  },
  {
   "cell_type": "code",
   "execution_count": 11,
   "id": "08f61da3-d989-4a8d-9199-a715bfcaedea",
   "metadata": {},
   "outputs": [],
   "source": [
    "##### Conexiones #####\n",
    "upload.observe(on_upload, names=\"value\")\n",
    "var_selector.observe(update_summary, names=\"value\")\n",
    "var_selector.observe(plot_variable, names=\"value\")\n",
    "bins_slider.observe(plot_variable, names=\"value\")\n",
    "log_scale_chk.observe(plot_variable, names=\"value\")"
   ]
  },
  {
   "cell_type": "code",
   "execution_count": 12,
   "id": "a905da23-f998-4ec1-bb1a-159a4ef243b6",
   "metadata": {},
   "outputs": [
    {
     "data": {
      "application/vnd.jupyter.widget-view+json": {
       "model_id": "5d39f5477d2742ca996d212b0a0bf1a3",
       "version_major": 2,
       "version_minor": 0
      },
      "text/plain": [
       "HTML(value='\\n<style>\\n@keyframes gradientMove {\\n    0% { background-position: 0% 50%; }\\n    50% { backgroun…"
      ]
     },
     "metadata": {},
     "output_type": "display_data"
    },
    {
     "data": {
      "application/vnd.jupyter.widget-view+json": {
       "model_id": "975c58b7020a434b8c098d13a0b8494d",
       "version_major": 2,
       "version_minor": 0
      },
      "text/plain": [
       "HTML(value='\\n<p>\\nEl uso de la estadística descriptiva es fundamental para <b>presentar información de manera…"
      ]
     },
     "metadata": {},
     "output_type": "display_data"
    },
    {
     "data": {
      "application/vnd.jupyter.widget-view+json": {
       "model_id": "0cb32a5bf19147bebd999bb9a550c44d",
       "version_major": 2,
       "version_minor": 0
      },
      "text/plain": [
       "HTML(value=\"\\n<h3 style='color: #576574; text-align: left;'>🏷️ Tipos de variables</h3>\\n<div style='border: 2p…"
      ]
     },
     "metadata": {},
     "output_type": "display_data"
    },
    {
     "data": {
      "application/vnd.jupyter.widget-view+json": {
       "model_id": "a173ececfffd492dbeeb38f99407d5d3",
       "version_major": 2,
       "version_minor": 0
      },
      "text/plain": [
       "HTML(value=\"\\n<h3 style='color: #576574; text-align: left;'>📈 Medidas descriptivas para variables numéricas</h…"
      ]
     },
     "metadata": {},
     "output_type": "display_data"
    },
    {
     "data": {
      "application/vnd.jupyter.widget-view+json": {
       "model_id": "cdd2e121eff84793b9e423ded370403b",
       "version_major": 2,
       "version_minor": 0
      },
      "text/plain": [
       "HTML(value=\"\\n<h3 style='color: #576574; text-align: left;'>📊 Medidas descriptivas para variables categóricas<…"
      ]
     },
     "metadata": {},
     "output_type": "display_data"
    },
    {
     "data": {
      "application/vnd.jupyter.widget-view+json": {
       "model_id": "8f3db35780784c3ebb768454ffc280b3",
       "version_major": 2,
       "version_minor": 0
      },
      "text/plain": [
       "HTML(value='\\n<style>\\n@keyframes underlineGradient {\\n    0% { background-position: 0% 50%; }\\n    50% { back…"
      ]
     },
     "metadata": {},
     "output_type": "display_data"
    },
    {
     "data": {
      "application/vnd.jupyter.widget-view+json": {
       "model_id": "fc4d594c0e9d411e9bdf46fb48093ab0",
       "version_major": 2,
       "version_minor": 0
      },
      "text/plain": [
       "HTML(value=\"\\n<h3 style='color: #576574;'>📄 Requisitos del archivo de Excel</h3>\\n<p>Necesitamos un archivo de…"
      ]
     },
     "metadata": {},
     "output_type": "display_data"
    },
    {
     "data": {
      "application/vnd.jupyter.widget-view+json": {
       "model_id": "86701a802bb9424eb5ce7e470e6204ce",
       "version_major": 2,
       "version_minor": 0
      },
      "text/plain": [
       "HTML(value=\"\\n<h3 style='color: #576574;'>📝  Paso a paso para analizar tus datos</h3>\\n\")"
      ]
     },
     "metadata": {},
     "output_type": "display_data"
    },
    {
     "data": {
      "application/vnd.jupyter.widget-view+json": {
       "model_id": "fd580e900e53449aa16df7d8a1962532",
       "version_major": 2,
       "version_minor": 0
      },
      "text/plain": [
       "HTML(value=\"\\n<h4> 📤  1. Sube tu archivo Excel: Asegúrate de que tenga las características antes mencionadas.<…"
      ]
     },
     "metadata": {},
     "output_type": "display_data"
    },
    {
     "data": {
      "application/vnd.jupyter.widget-view+json": {
       "model_id": "1250674277b3414692bfb30902ba2b63",
       "version_major": 2,
       "version_minor": 0
      },
      "text/plain": [
       "FileUpload(value=(), accept='.xls,.xlsx', description='Sube tu archivo Excel', layout=Layout(width='250px'))"
      ]
     },
     "metadata": {},
     "output_type": "display_data"
    },
    {
     "data": {
      "application/vnd.jupyter.widget-view+json": {
       "model_id": "9c85e9455c824adc8735c8a62157184a",
       "version_major": 2,
       "version_minor": 0
      },
      "text/plain": [
       "Output(layout=Layout(border_bottom='1px solid #c8d6e5', border_left='1px solid #c8d6e5', border_right='1px sol…"
      ]
     },
     "metadata": {},
     "output_type": "display_data"
    },
    {
     "data": {
      "application/vnd.jupyter.widget-view+json": {
       "model_id": "e9fc8f4a5d104f70bd5c8be513158fb6",
       "version_major": 2,
       "version_minor": 0
      },
      "text/plain": [
       "HTML(value='<h4> ✏️  2. Indica los tipos de variables:</h4>')"
      ]
     },
     "metadata": {},
     "output_type": "display_data"
    },
    {
     "data": {
      "application/vnd.jupyter.widget-view+json": {
       "model_id": "17651b1221354d88a4edd8de169735ba",
       "version_major": 2,
       "version_minor": 0
      },
      "text/plain": [
       "VBox(layout=Layout(border_bottom='2px solid #c8d6e5', border_left='2px solid #c8d6e5', border_right='2px solid…"
      ]
     },
     "metadata": {},
     "output_type": "display_data"
    },
    {
     "data": {
      "application/vnd.jupyter.widget-view+json": {
       "model_id": "5e9eb0fd502842548c56884c6ff210e7",
       "version_major": 2,
       "version_minor": 0
      },
      "text/plain": [
       "Output(layout=Layout(border_bottom='1px solid #c8d6e5', border_left='1px solid #c8d6e5', border_right='1px sol…"
      ]
     },
     "metadata": {},
     "output_type": "display_data"
    },
    {
     "data": {
      "application/vnd.jupyter.widget-view+json": {
       "model_id": "14c35e70b68740a0ad9bff1c34acc59e",
       "version_major": 2,
       "version_minor": 0
      },
      "text/plain": [
       "HTML(value='<h3>🔍  3. Visualiza el comportamiento de la variable</h3>')"
      ]
     },
     "metadata": {},
     "output_type": "display_data"
    },
    {
     "data": {
      "application/vnd.jupyter.widget-view+json": {
       "model_id": "f9828fa9ba394607a65c28d96b4e0cda",
       "version_major": 2,
       "version_minor": 0
      },
      "text/plain": [
       "HBox(children=(Dropdown(description='Variable:', layout=Layout(width='400px'), options=(), style=DescriptionSt…"
      ]
     },
     "metadata": {},
     "output_type": "display_data"
    },
    {
     "data": {
      "application/vnd.jupyter.widget-view+json": {
       "model_id": "cf1e1a36138f4f058f61a1eac410236b",
       "version_major": 2,
       "version_minor": 0
      },
      "text/plain": [
       "Output(layout=Layout(border_bottom='1px solid #c8d6e5', border_left='1px solid #c8d6e5', border_right='1px sol…"
      ]
     },
     "metadata": {},
     "output_type": "display_data"
    }
   ],
   "source": [
    "##### Edicion en html ####\n",
    "display(widgets.HTML(\"\"\"\n",
    "<style>\n",
    "@keyframes gradientMove {\n",
    "    0% { background-position: 0% 50%; }\n",
    "    50% { background-position: 100% 50%; }\n",
    "    100% { background-position: 0% 50%; }\n",
    "}\n",
    "</style>\n",
    "\n",
    "<h1 style=\"\n",
    "    color:black; \n",
    "    background: linear-gradient(270deg, #a8edea, #fed6e3, #cfd9df, #e0c3fc);\n",
    "    background-size: 600% 600%;\n",
    "    animation: gradientMove 8s ease infinite;\n",
    "    padding:12px; \n",
    "    border-radius:10px; \n",
    "    text-align:center; \n",
    "    font-family:Arial; \n",
    "    font-size:28px;\">\n",
    "Estadística descriptiva\n",
    "</h1>\n",
    "\"\"\"))\n",
    "\n",
    "display(widgets.HTML(\"\"\"\n",
    "<p>\n",
    "El uso de la estadística descriptiva es fundamental para <b>presentar información de manera resumida e interpretar \n",
    "los resultados obtenidos</b> de un conjunto de datos.\n",
    "</p>\n",
    "\n",
    "<p>\n",
    "La estadística descriptiva consiste en un <b>conjunto de técnicas para describir, resumir y analizar</b> la información de un conjunto de datos 🤓☝️. \n",
    "</p>\n",
    "\n",
    "<p>\n",
    "Vamos a trabajar con diferentes tipos de datos. Comenzaremos con una clasificación básica: <b>cuantitativos y cualitativos</b>.\n",
    "</p>\n",
    "\"\"\"))\n",
    "\n",
    "display(widgets.HTML(\"\"\"\n",
    "<h3 style='color: #576574; text-align: left;'>🏷️ Tipos de variables</h3>\n",
    "<div style='border: 2px solid #c8d6e5; border-radius: 10px; padding: 15px; \n",
    "            background-color: #f1f2f6; width: 1000px; margin: auto;'>\n",
    "  <ul style='list-style: none; padding-left: 20px; margin: 0;'>\n",
    "    <li>➤ <b>Variables cuantitativas</b>: son características que podemos medir y representar con números, generalmente corresponden a conteos o mediciones.</li>\n",
    "    <li>➤ <b>Variables cualitativas</b>: son características relacionadas con cualidades, se dividen en diferentes categorías que por lo general no son numéricas.</li>\n",
    "  </ul>\n",
    "</div>\n",
    "\"\"\"))\n",
    "\n",
    "display(widgets.HTML(\"\"\"\n",
    "<h3 style='color: #576574; text-align: left;'>📈 Medidas descriptivas para variables numéricas</h3>\n",
    "<div style='border: 2px solid #c8d6e5; border-radius: 10px; padding: 15px; \n",
    "            background-color: #f1f2f6; width: 1100px; margin: auto;'>\n",
    "  <ul style='list-style: none; padding-left: 20px; margin: 0;'>\n",
    "    <li>➤ <b>Media (aritmética)</b>: también conocida como promedio, consiste en sumar todos los elementos y dividir entre su número total. Es decir, realizar la suma de n valores y dividir entre n.\n",
    "    <li>➤ <b>Mediana</b>: es el valor intermedio de un conjunto de datos cuando están ordenados de manera ascendente. Probabilísticamente, corresponde al valor que acumula 0.5 de probabilidad.</li>\n",
    "    <li>➤ <b>Desviación estándar</b>: mide la variación de los datos respecto a la media.</li>\n",
    "    <li>➤ <b>Q1</b>: acumula el 25 % de los datos; al menos el 25 % de los valores son menores o iguales a Q1.</li>\n",
    "    <li>➤ <b>Q3</b>: acumula el 75 % de los datos; al menos el 75 % de los valores son menores o iguales a Q3.</li>\n",
    "  </ul>\n",
    "</div>\n",
    "\"\"\"))\n",
    "\n",
    "\n",
    "display(widgets.HTML(\"\"\"\n",
    "<h3 style='color: #576574; text-align: left;'>📊 Medidas descriptivas para variables categóricas</h3>\n",
    "<div style='border: 2px solid #c8d6e5; border-radius: 10px; padding: 15px; \n",
    "            background-color: #f1f2f6; width: 1100px; margin: auto;'>\n",
    "  <ul style='list-style: none; padding-left: 20px; margin: 0;'>\n",
    "    <li>➤ <b>Valores únicos</b>: categorías existentes en la variable.</li>\n",
    "    <li>➤ <b>Gráfico de barras</b>: representación gráfica de la frecuencia de las categorías de la variable.</li>\n",
    "    <li>➤ <b>Gráfico de pay</b>: representación gráfica de la frecuencia de las categorías de la variable en términos porcentuales.</li>\n",
    "  </ul>\n",
    "</div>\n",
    "\"\"\"))\n",
    "\n",
    "display(widgets.HTML(\"\"\"\n",
    "<style>\n",
    "@keyframes underlineGradient {\n",
    "    0% { background-position: 0% 50%; }\n",
    "    50% { background-position: 100% 50%; }\n",
    "    100% { background-position: 0% 50%; }\n",
    "}\n",
    ".animated-underline {\n",
    "    display: inline-block;\n",
    "    position: relative;\n",
    "    font-size: 16px;\n",
    "    font-weight: bold;\n",
    "    color: #2f3542; \n",
    "    text-align: center;\n",
    "}\n",
    ".animated-underline::after {\n",
    "    content: '';\n",
    "    display: block;\n",
    "    height: 5px;\n",
    "    width: 100%;\n",
    "    border-radius: 5px;\n",
    "    background: linear-gradient(270deg, #a8edea, #fed6e3, #cfd9df, #e0c3fc); /* Colores pastel */\n",
    "    background-size: 600% 600%;\n",
    "    animation: underlineGradient 6s ease infinite;\n",
    "    margin-top: 4px;\n",
    "}\n",
    ".centered-title {\n",
    "    text-align: center;\n",
    "    margin-bottom: 20px;\n",
    "}\n",
    "</style>\n",
    "\n",
    "<div class=\"centered-title\">\n",
    "    <h2 class=\"animated-underline\">🔧  A continuación te presentamos una herramienta que nos ayudará a conocer los datos</h2>\n",
    "</div>\n",
    "\"\"\"))\n",
    "\n",
    "display(widgets.HTML(\"\"\"\n",
    "<h3 style='color: #576574;'>📄 Requisitos del archivo de Excel</h3>\n",
    "<p>Necesitamos un archivo de Excel que contenga todas las variables que deseas analizar en <b>una sola hoja</b>.</p>\n",
    "<p>Antes de subirlo, asegúrate de que:</p>\n",
    "<ul style='list-style-type: disc; padding-left: 25px;'>\n",
    "    <li>Las variables estén correctamente <b>limpias y clasificadas</b>.</li>\n",
    "    <li>Las <b>variables numéricas</b> contengan únicamente números válidos.</li>\n",
    "    <li>Las <b>variables categóricas</b> tengan cada categoría escrita de forma consistente y correcta.</li>\n",
    "</ul>\n",
    "<p>Esto garantizará un análisis preciso y libre de errores.</p>\n",
    "\"\"\"))\n",
    "\n",
    "display(widgets.HTML(\"\"\"\n",
    "<h3 style='color: #576574;'>📝  Paso a paso para analizar tus datos</h3>\n",
    "\"\"\"))\n",
    "\n",
    "display(widgets.HTML(\"\"\"\n",
    "<h4> 📤  1. Sube tu archivo Excel: Asegúrate de que tenga las características antes mencionadas.</h4>\n",
    "\n",
    "<h4>\n",
    "A continuación te comparto un archivo para que puedas probar esta herramienta.\n",
    "Te lo dejo 👉 <a href='https://docs.google.com/spreadsheets/d/e/2PACX-1vSkMlWrodM_0UldxzyODQTuR8VqUrIpgR7PBKMSUXQRbqQnUtrfd7wGJWJsGmEqeA/pub?output=xlsx' \n",
    "   target='_blank' style='color: steelblue; text-decoration: underline; font-weight:bold;'>aquí</a>. Para una mejor compresion y correcto uso te dejo una \n",
    "   guia de los resultados que podras obtener con este conjunto de datos.\n",
    "</h4>\n",
    "\"\"\"))\n",
    "\n",
    "\n",
    "\n",
    "display(upload)\n",
    "display(status_out)\n",
    "display(widgets.HTML(\"<h4> ✏️  2. Indica los tipos de variables:</h4>\"))\n",
    "display(type_override_box)\n",
    "display(summary_out)\n",
    "\n",
    "display(widgets.HTML(\"<h3>🔍  3. Visualiza el comportamiento de la variable</h3>\"))\n",
    "display(widgets.HBox([var_selector, bins_slider, log_scale_chk]))\n",
    "display(plot_out)\n"
   ]
  }
 ],
 "metadata": {
  "kernelspec": {
   "display_name": "Python 3 (ipykernel)",
   "language": "python",
   "name": "python3"
  },
  "language_info": {
   "codemirror_mode": {
    "name": "ipython",
    "version": 3
   },
   "file_extension": ".py",
   "mimetype": "text/x-python",
   "name": "python",
   "nbconvert_exporter": "python",
   "pygments_lexer": "ipython3",
   "version": "3.13.1"
  }
 },
 "nbformat": 4,
 "nbformat_minor": 5
}
